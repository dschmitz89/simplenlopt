{
 "cells": [
  {
   "cell_type": "markdown",
   "id": "f6e2ecec",
   "metadata": {},
   "source": [
    "# Global Optimization\n",
    "\n",
    "Unlike local optimization algorithms which start from one point and typically a local minimum, global optimization algorithms seek to find the best minimum in a defined region. This means that they typically have a much higher chance to find the global optimum for functions with several local minima but require many more evaluations of the objective. As an example, consider the Styblinski-Tang function:\n",
    "\n",
    "$$\n",
    "f(x, y)= 0.5\\cdot (x^4-16x^2+5x + y^4-16y^2+5y)\n",
    "$$\n",
    "\n",
    "This function has four local minima, one of which is a global minimum. \n",
    "\n",
    "For such low-dimensional problems with a small number of local minima, the deterministic DIviding RECTangles algorithm (DIRECT) is often a good candidate. We will compare the performance of DIRECT and the default derivate free local optimizer in simplenlopt, BOBYQA, initiated at (0, 0). Note that global optimizers do not require an initial guess ``x0`` but bounds in the form ``[(min, max), (min, max), ...]``."
   ]
  },
  {
   "cell_type": "code",
   "execution_count": 2,
   "id": "a1be0da0",
   "metadata": {},
   "outputs": [
    {
     "name": "stdout",
     "output_type": "stream",
     "text": [
      "BOBYQA Optimum position:  [-2.90353718  2.74681255]\n",
      "BOBYQA Optimum value:  -64.19561235748431\n",
      "BOBYQA Function evaluations:  28\n",
      "DIRECT Optimum position:  [-2.90348693 -2.90362242]\n",
      "DIRECT Optimum value:  -78.33233123410332\n",
      "DIRECT Function evaluations:  255\n"
     ]
    }
   ],
   "source": [
    "import simplenlopt\n",
    "import plotly.graph_objects as go\n",
    "import numpy as np\n",
    "\n",
    "def styblinski_tang(pos):\n",
    "    \n",
    "    x, y = pos\n",
    "    return 0.5 * (x**4 -16*x**2 + 5*x + y**4 - 16 * y**2 + 5 * y)\n",
    "\n",
    "bounds = [(-4, 4), (-4, 4)]\n",
    "\n",
    "x0 = np.array([0, 0])\n",
    "res_bobyqa = simplenlopt.minimize(styblinski_tang, x0, bounds = bounds)\n",
    "print(\"BOBYQA Optimum position: \", res_bobyqa.x)\n",
    "print(\"BOBYQA Optimum value: \", res_bobyqa.fun)\n",
    "print(\"BOBYQA Function evaluations: \", res_bobyqa.nfev)\n",
    "\n",
    "res_direct = simplenlopt.direct(styblinski_tang, bounds)\n",
    "print(\"DIRECT Optimum position: \", res_direct.x)\n",
    "print(\"DIRECT Optimum value: \", res_direct.fun)\n",
    "print(\"DIRECT Function evaluations: \", res_direct.nfev)\n",
    "\n",
    "#Plot the function and the found minima\n",
    "X = np.linspace(-4, 4, num = 100)\n",
    "Y = np.linspace(-4, 4, num = 100)"
   ]
  },
  {
   "cell_type": "markdown",
   "id": "c2d8396a",
   "metadata": {},
   "source": [
    "![Test](./global_Opt_Vis.PNG)"
   ]
  },
  {
   "cell_type": "code",
   "execution_count": 5,
   "id": "25796fb5",
   "metadata": {},
   "outputs": [],
   "source": [
    "#Plotly code to produce the above image. Unfortunately not rendering correctly on readthedocs.\n",
    "\n",
    "XX, YY = np.meshgrid(X, Y)\n",
    "F = 0.5 * (XX**4 -16*XX**2 + 5*XX + YY**4 - 16 * YY**2 + 5 * YY)\n",
    "\n",
    "fig = go.Figure(data=[go.Surface(z=F, x=XX, y=YY, showscale = False)])\n",
    "#fig.update_layout(\n",
    "#    scene = dict(zaxis = dict(nticks=4, range=[0,10])))\n",
    "fig.add_scatter3d(x=[res_bobyqa.x[0]], y=[res_bobyqa.x[1]], z=[res_bobyqa.fun], mode = 'markers', marker=dict(size=10, color='green'), name='BOBYQA')\n",
    "fig.add_scatter3d(x=[res_direct.x[0]], y=[res_direct.x[1]], z=[res_direct.fun], mode = 'markers', marker=dict(size=10, color='black'), name='DIRECT')\n",
    "camera = dict(\n",
    "    eye=dict(x=-1.5, y=-1.5, z=0)\n",
    ")\n",
    "\n",
    "fig.update_layout(scene_camera=camera)\n",
    "fig.show()"
   ]
  }
 ],
 "metadata": {
  "kernelspec": {
   "display_name": "Python [conda env:.conda-simplenlopt_env] *",
   "language": "python",
   "name": "conda-env-.conda-simplenlopt_env-py"
  },
  "language_info": {
   "codemirror_mode": {
    "name": "ipython",
    "version": 3
   },
   "file_extension": ".py",
   "mimetype": "text/x-python",
   "name": "python",
   "nbconvert_exporter": "python",
   "pygments_lexer": "ipython3",
   "version": "3.9.4"
  }
 },
 "nbformat": 4,
 "nbformat_minor": 5
}
