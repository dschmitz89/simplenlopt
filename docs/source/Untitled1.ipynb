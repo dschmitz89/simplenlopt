{
 "cells": [
  {
   "cell_type": "markdown",
   "metadata": {},
   "source": [
    "# Constrained optimization\n",
    "\n",
    "## Bound constraints\n",
    "Often the parameters of an optimization problems are subject to (often abbreviated as s. t.) constraints. In practice, constraints make solving an optimization problem much more difficult. In the simplest case, these can be simple box constraints for the parameters. \n",
    "\n",
    "Consider the Rosenbrock function with a simple linear constraint:\n",
    "$$\n",
    "argmin_{x, y} (1-x)^2+100(y-x^2)^2 \\\\\n",
    "s.\\ t. x\\in [-1, 0.5],\\ y\\in [1.5 , 2]\n",
    "$$\n",
    "\n",
    "Bounds have to be provided as a list of (lower_bound, upper_bound) for each coordinate:"
   ]
  },
  {
   "cell_type": "code",
   "execution_count": 4,
   "metadata": {},
   "outputs": [
    {
     "name": "stdout",
     "output_type": "stream",
     "text": [
      "[-1.   1.5]\n"
     ]
    }
   ],
   "source": [
    "import simplenlopt\n",
    "import numpy as np\n",
    "\n",
    "def rosenbrock(pos):\n",
    "    \n",
    "    x, y = pos\n",
    "    return (1-x)**2 + 100 * (y - x**2)**2\n",
    "\n",
    "x0 = np.array([-0.5, 1.6])\n",
    "bounds=[(-1, 0.5), (1.5, 2)]\n",
    "res = simplenlopt.minimize(rosenbrock, x0, bounds = bounds)\n",
    "print(res.x)"
   ]
  },
  {
   "cell_type": "markdown",
   "metadata": {},
   "source": [
    "## Inequality and equality constraints\n",
    "\n",
    "General inequality and equality constraints reduce the parameter space by linear or nonlinear functions. Let's say we want the minimum of the rosenbrock function which fulfills that $x+y\\leq 1.5$. In typical optimization notation, this problem would be written as\n",
    "$$\n",
    "argmin_{x, y} (1-x)^2+100(y-x^2)^2 \\\\\n",
    "s.\\ t. x+y-1.5 \\leq 0\n",
    "$$\n",
    "A constraint has to be provided as a dictionary with at least two keys: const={type:'ineq'/'eq', 'fun'}. All constraints then have to be passed as a list\n",
    "General inequality and equality constraints can also be handled by NLopt. In the author's opinion, NLopt has better support for constrained optimization than SciPy due to its augmented lagrangian implementation. This method enables to use "
   ]
  },
  {
   "cell_type": "code",
   "execution_count": 13,
   "metadata": {},
   "outputs": [
    {
     "name": "stdout",
     "output_type": "stream",
     "text": [
      "[0.93186562 0.86813438]\n",
      "1.8000000000000003\n"
     ]
    }
   ],
   "source": [
    "def rosenbrock(pos):\n",
    "    \n",
    "    x, y = pos\n",
    "    return (1-x)**2 + 100 * (y - x**2)**2\n",
    "\n",
    "def constraint(pos):\n",
    "    x, y = pos\n",
    "    return x + y - 1.8\n",
    "\n",
    "ineq_constraint = {'type':'ineq', 'fun':constraint}\n",
    "res = simplenlopt.minimize(rosenbrock, x0, constraints=[ineq_constraint])\n",
    "print(res.x)\n",
    "print(res.x.sum())"
   ]
  },
  {
   "cell_type": "code",
   "execution_count": 12,
   "metadata": {},
   "outputs": [
    {
     "name": "stdout",
     "output_type": "stream",
     "text": [
      "[0.93186588 0.86813412]\n",
      "1.7999999999999998\n"
     ]
    }
   ],
   "source": [
    "def rosenbrock(pos):\n",
    "    \n",
    "    x, y = pos\n",
    "    return (1-x)**2 + 100 * (y - x**2)**2\n",
    "\n",
    "def constraint(pos):\n",
    "    x, y = pos\n",
    "    return x + y - 1.8\n",
    "\n",
    "ineq_constraint = {'type':'eq', 'fun':constraint, 'tol':1e-4}\n",
    "res = simplenlopt.minimize(rosenbrock, x0, constraints=[ineq_constraint])\n",
    "print(res.x)\n",
    "print(res.x.sum())"
   ]
  },
  {
   "cell_type": "markdown",
   "metadata": {},
   "source": [
    "## Augmented Lagrangian\n",
    "\n",
    "NLopt provides a powerful algorithm for dealing with constraints: the augmented Lagrangian. Similarly to regularization in machine learning, the augmented lagrangian adds increasing penalty terms to penalize violation of the constraints until they are met. This makes it possible to also use algorithms which were originally not designed to deal with constraints. In simplenlopt, the augmented lagrangian can be called in the same way as the minimize function. Here, we will use the BOBYQA algorithm for the linearly constrained Rosenbrock problem."
   ]
  },
  {
   "cell_type": "code",
   "execution_count": 15,
   "metadata": {},
   "outputs": [
    {
     "name": "stdout",
     "output_type": "stream",
     "text": [
      "[0.93186487 0.86813505]\n",
      "1.7999999266224507\n"
     ]
    }
   ],
   "source": [
    "def rosenbrock(pos):\n",
    "    \n",
    "    x, y = pos\n",
    "    return (1-x)**2 + 100 * (y - x**2)**2\n",
    "\n",
    "def constraint(pos):\n",
    "    x, y = pos\n",
    "    return x + y - 1.8\n",
    "\n",
    "ineq_constraint = {'type':'ineq', 'fun':constraint}\n",
    "res = simplenlopt.auglag(rosenbrock, x0, method = 'bobyqa', constraints=[ineq_constraint])\n",
    "print(res.x)\n",
    "print(res.x.sum())"
   ]
  },
  {
   "cell_type": "markdown",
   "metadata": {},
   "source": [
    "While the auglag function directly calls the augmented lagrangian, the minimize function will still default to it if the employed algorithm cannot handle constraints. The author expects this to make testing different optimizers more user friendly. Keep in mind though that calling auglag directly will eliminate some overhead."
   ]
  },
  {
   "cell_type": "code",
   "execution_count": 16,
   "metadata": {},
   "outputs": [
    {
     "name": "stdout",
     "output_type": "stream",
     "text": [
      "[0.93186487 0.86813505]\n",
      "1.7999999266224507\n"
     ]
    },
    {
     "name": "stderr",
     "output_type": "stream",
     "text": [
      "C:\\ProgramData\\Anaconda3\\lib\\site-packages\\simplenlopt\\_Core.py:480: RuntimeWarning: Method bobyqa does not support constraints. Constraints will be handled by augmented lagrangian. In case of problems consider method='COBYLA'.\n",
      "  warn(\"Method {} does not support constraints. \"\n"
     ]
    }
   ],
   "source": [
    "def rosenbrock(pos):\n",
    "    \n",
    "    x, y = pos\n",
    "    return (1-x)**2 + 100 * (y - x**2)**2\n",
    "\n",
    "def constraint(pos):\n",
    "    x, y = pos\n",
    "    return x + y - 1.8\n",
    "\n",
    "ineq_constraint = {'type':'ineq', 'fun':constraint}\n",
    "res = simplenlopt.minimize(rosenbrock, x0, method = 'bobyqa', constraints=[ineq_constraint])\n",
    "print(res.x)\n",
    "print(res.x.sum())"
   ]
  }
 ],
 "metadata": {
  "kernelspec": {
   "display_name": "Python 3",
   "language": "python",
   "name": "python3"
  },
  "language_info": {
   "codemirror_mode": {
    "name": "ipython",
    "version": 3
   },
   "file_extension": ".py",
   "mimetype": "text/x-python",
   "name": "python",
   "nbconvert_exporter": "python",
   "pygments_lexer": "ipython3",
   "version": "3.8.3"
  }
 },
 "nbformat": 4,
 "nbformat_minor": 4
}
