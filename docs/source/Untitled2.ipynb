{
 "cells": [
  {
   "cell_type": "code",
   "execution_count": 4,
   "metadata": {},
   "outputs": [],
   "source": [
    "import simplenlopt\n",
    "import numpy as np\n",
    "import numba\n",
    "from time import time"
   ]
  },
  {
   "cell_type": "code",
   "execution_count": 15,
   "metadata": {},
   "outputs": [
    {
     "name": "stdout",
     "output_type": "stream",
     "text": [
      "9.465089082717896\n",
      "100\n",
      "28.362142324447632\n",
      "21\n"
     ]
    }
   ],
   "source": [
    "#@numba.jit\n",
    "def eggholder(x):\n",
    "    return (-(x[1] + 47) * np.sin(np.sqrt(np.abs(x[0]/2 + (x[1]  + 47))))\n",
    "         -x[0] * np.sin(np.sqrt(np.abs(x[0] - (x[1]  + 47)))))\n",
    "\n",
    "global_min = eggholder(np.array([512., 404.23180509]))\n",
    "bounds = [(-512., 512.), (-512., 512.)]\n",
    "\n",
    "nsuccesses_mlsl = 0\n",
    "t0 = time()\n",
    "for i in range(100):\n",
    "    res = simplenlopt.mlsl(eggholder, bounds, local_minimizer = 'lbfgs')\n",
    "    if np.abs(res.fun - global_min)<1e-1: \n",
    "        nsuccesses_mlsl +=1\n",
    "print(time() - t0)\n",
    "print(nsuccesses_mlsl)\n",
    "\n",
    "from scipy.optimize import shgo, dual_annealing, differential_evolution\n",
    "nsuccesses_da = 0\n",
    "\n",
    "for i in range(100):\n",
    "    res = dual_annealing(eggholder, bounds)\n",
    "    if np.abs(res.fun - global_min)<1e-1: \n",
    "            nsuccesses_da +=1\n",
    "print(time() - t0)\n",
    "print(nsuccesses_da)\n",
    "\n"
   ]
  }
 ],
 "metadata": {
  "kernelspec": {
   "display_name": "Python 3",
   "language": "python",
   "name": "python3"
  },
  "language_info": {
   "codemirror_mode": {
    "name": "ipython",
    "version": 3
   },
   "file_extension": ".py",
   "mimetype": "text/x-python",
   "name": "python",
   "nbconvert_exporter": "python",
   "pygments_lexer": "ipython3",
   "version": "3.8.5"
  }
 },
 "nbformat": 4,
 "nbformat_minor": 4
}
